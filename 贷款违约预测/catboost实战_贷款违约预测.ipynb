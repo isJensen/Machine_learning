{
 "cells": [
  {
   "cell_type": "code",
   "execution_count": 1,
   "id": "7c920310",
   "metadata": {},
   "outputs": [],
   "source": [
    "from matplotlib import pyplot as plt\n",
    "import numpy as np\n",
    "import pandas as pd\n",
    "import seaborn as sns\n",
    "import warnings\n",
    "import datetime\n",
    "import pydotplus \n",
    "import graphviz\n",
    "warnings.filterwarnings('ignore')\n",
    "# 显示最大列数\n",
    "pd.set_option('max_columns',120)\n",
    "# sns.set(style=\"darkgrid\", font_scale=1.2)\n",
    "plt.rcParams[\"font.family\"] = \"SimHei\"\n",
    "# 解决中文乱码问题\n",
    "plt.rcParams[\"axes.unicode_minus\"] = False"
   ]
  },
  {
   "cell_type": "code",
   "execution_count": 2,
   "id": "20af55a4",
   "metadata": {},
   "outputs": [
    {
     "data": {
      "text/plain": [
       "(800000, 47)"
      ]
     },
     "metadata": {},
     "output_type": "display_data"
    },
    {
     "data": {
      "text/plain": [
       "(200000, 46)"
      ]
     },
     "metadata": {},
     "output_type": "display_data"
    }
   ],
   "source": [
    "train = pd.read_csv('./data/train.csv')\n",
    "testA = pd.read_csv(\"./data/testA.csv\")\n",
    "display(train.shape,testA.shape)"
   ]
  },
  {
   "cell_type": "code",
   "execution_count": 3,
   "id": "0f429b43",
   "metadata": {
    "collapsed": true
   },
   "outputs": [
    {
     "name": "stdout",
     "output_type": "stream",
     "text": [
      "<class 'pandas.core.frame.DataFrame'>\n",
      "Int64Index: 1000000 entries, 0 to 199999\n",
      "Data columns (total 47 columns):\n",
      " #   Column              Non-Null Count    Dtype  \n",
      "---  ------              --------------    -----  \n",
      " 0   id                  1000000 non-null  int64  \n",
      " 1   loanAmnt            1000000 non-null  float64\n",
      " 2   term                1000000 non-null  int64  \n",
      " 3   interestRate        1000000 non-null  float64\n",
      " 4   installment         1000000 non-null  float64\n",
      " 5   grade               1000000 non-null  object \n",
      " 6   subGrade            1000000 non-null  object \n",
      " 7   employmentTitle     999999 non-null   float64\n",
      " 8   employmentLength    941459 non-null   object \n",
      " 9   homeOwnership       1000000 non-null  int64  \n",
      " 10  annualIncome        1000000 non-null  float64\n",
      " 11  verificationStatus  1000000 non-null  int64  \n",
      " 12  issueDate           1000000 non-null  object \n",
      " 13  isDefault           800000 non-null   float64\n",
      " 14  purpose             1000000 non-null  int64  \n",
      " 15  postCode            999999 non-null   float64\n",
      " 16  regionCode          1000000 non-null  int64  \n",
      " 17  dti                 999700 non-null   float64\n",
      " 18  delinquency_2years  1000000 non-null  float64\n",
      " 19  ficoRangeLow        1000000 non-null  float64\n",
      " 20  ficoRangeHigh       1000000 non-null  float64\n",
      " 21  openAcc             1000000 non-null  float64\n",
      " 22  pubRec              1000000 non-null  float64\n",
      " 23  pubRecBankruptcies  999479 non-null   float64\n",
      " 24  revolBal            1000000 non-null  float64\n",
      " 25  revolUtil           999342 non-null   float64\n",
      " 26  totalAcc            1000000 non-null  float64\n",
      " 27  initialListStatus   1000000 non-null  int64  \n",
      " 28  applicationType     1000000 non-null  int64  \n",
      " 29  earliesCreditLine   1000000 non-null  object \n",
      " 30  title               999999 non-null   float64\n",
      " 31  policyCode          1000000 non-null  float64\n",
      " 32  n0                  949619 non-null   float64\n",
      " 33  n1                  949619 non-null   float64\n",
      " 34  n2                  949619 non-null   float64\n",
      " 35  n3                  949619 non-null   float64\n",
      " 36  n4                  958367 non-null   float64\n",
      " 37  n5                  949619 non-null   float64\n",
      " 38  n6                  949619 non-null   float64\n",
      " 39  n7                  949619 non-null   float64\n",
      " 40  n8                  949618 non-null   float64\n",
      " 41  n9                  949619 non-null   float64\n",
      " 42  n10                 958367 non-null   float64\n",
      " 43  n11                 912673 non-null   float64\n",
      " 44  n12                 949619 non-null   float64\n",
      " 45  n13                 949619 non-null   float64\n",
      " 46  n14                 949619 non-null   float64\n",
      "dtypes: float64(34), int64(8), object(5)\n",
      "memory usage: 366.2+ MB\n"
     ]
    }
   ],
   "source": [
    "# 训练集、测试集合并\n",
    "all_data = train.append(testA)\n",
    "all_data.info()"
   ]
  },
  {
   "cell_type": "code",
   "execution_count": null,
   "id": "c1cfea30",
   "metadata": {},
   "outputs": [],
   "source": []
  }
 ],
 "metadata": {
  "kernelspec": {
   "display_name": "Python 3 (ipykernel)",
   "language": "python",
   "name": "python3"
  },
  "language_info": {
   "codemirror_mode": {
    "name": "ipython",
    "version": 3
   },
   "file_extension": ".py",
   "mimetype": "text/x-python",
   "name": "python",
   "nbconvert_exporter": "python",
   "pygments_lexer": "ipython3",
   "version": "3.7.0rc1"
  }
 },
 "nbformat": 4,
 "nbformat_minor": 5
}
